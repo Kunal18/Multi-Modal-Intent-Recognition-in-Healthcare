{
 "cells": [
  {
   "cell_type": "code",
   "execution_count": 1,
   "id": "b9c40054-3ed1-4e89-ae18-d51b6c646047",
   "metadata": {},
   "outputs": [
    {
     "name": "stdout",
     "output_type": "stream",
     "text": [
      "Sun Mar 31 18:20:37 2024       \n",
      "+-----------------------------------------------------------------------------+\n",
      "| NVIDIA-SMI 470.82.01    Driver Version: 470.82.01    CUDA Version: 11.4     |\n",
      "|-------------------------------+----------------------+----------------------+\n",
      "| GPU  Name        Persistence-M| Bus-Id        Disp.A | Volatile Uncorr. ECC |\n",
      "| Fan  Temp  Perf  Pwr:Usage/Cap|         Memory-Usage | GPU-Util  Compute M. |\n",
      "|                               |                      |               MIG M. |\n",
      "|===============================+======================+======================|\n",
      "|   0  Tesla K40m          Off  | 00000000:0B:00.0 Off |                    0 |\n",
      "| N/A   34C    P0    68W / 235W |      0MiB / 11441MiB |     97%      Default |\n",
      "|                               |                      |                  N/A |\n",
      "+-------------------------------+----------------------+----------------------+\n",
      "                                                                               \n",
      "+-----------------------------------------------------------------------------+\n",
      "| Processes:                                                                  |\n",
      "|  GPU   GI   CI        PID   Type   Process name                  GPU Memory |\n",
      "|        ID   ID                                                   Usage      |\n",
      "|=============================================================================|\n",
      "|  No running processes found                                                 |\n",
      "+-----------------------------------------------------------------------------+\n"
     ]
    }
   ],
   "source": [
    "! nvidia-smi"
   ]
  },
  {
   "cell_type": "code",
   "execution_count": 2,
   "id": "e93bc5f2-a5e8-444f-9e35-2ce29c8636e6",
   "metadata": {},
   "outputs": [],
   "source": [
    "# !pip -q install torch transformers datasets librosa noisereduce accelerate evaluate -U"
   ]
  },
  {
   "cell_type": "code",
   "execution_count": 3,
   "id": "fa53576e-9b7c-483e-9a18-38ed05f97a07",
   "metadata": {},
   "outputs": [],
   "source": [
    "import warnings\n",
    "warnings.filterwarnings('ignore')\n",
    "\n",
    "import pandas as pd\n",
    "import numpy as np\n",
    "from datasets import Dataset, load_dataset, load_metric\n",
    "import soundfile as sf\n",
    "import random\n",
    "import librosa\n",
    "import noisereduce\n",
    "from IPython.display import Audio, display\n",
    "from transformers import AutoFeatureExtractor, pipeline\n",
    "from transformers import AutoModelForAudioClassification, Trainer, TrainingArguments, ASTForAudioClassification\n",
    "import evaluate\n",
    "from accelerate import Accelerator\n",
    "import torch \n",
    "\n",
    "\n",
    "from transformers import pipeline\n",
    "from transformers.pipelines.pt_utils import KeyDataset\n",
    "from tqdm.auto import tqdm\n",
    "from sklearn.metrics import classification_report\n"
   ]
  },
  {
   "cell_type": "code",
   "execution_count": 4,
   "id": "36e29381-85a1-45ec-94c4-fba763c9ebdf",
   "metadata": {},
   "outputs": [
    {
     "data": {
      "application/vnd.jupyter.widget-view+json": {
       "model_id": "9d3d93a0bfdc40d7aa369b3131fb41ff",
       "version_major": 2,
       "version_minor": 0
      },
      "text/plain": [
       "VBox(children=(HTML(value='<center> <img\\nsrc=https://huggingface.co/front/assets/huggingface_logo-noborder.sv…"
      ]
     },
     "metadata": {},
     "output_type": "display_data"
    }
   ],
   "source": [
    "from huggingface_hub import notebook_login\n",
    "\n",
    "notebook_login()"
   ]
  },
  {
   "cell_type": "code",
   "execution_count": 5,
   "id": "81916fee-a57d-432c-9c6a-1f1314f51130",
   "metadata": {},
   "outputs": [
    {
     "data": {
      "application/vnd.jupyter.widget-view+json": {
       "model_id": "03d1585fdaef4d8db2da5889b2c00d97",
       "version_major": 2,
       "version_minor": 0
      },
      "text/plain": [
       "Downloading readme:   0%|          | 0.00/544 [00:00<?, ?B/s]"
      ]
     },
     "metadata": {},
     "output_type": "display_data"
    },
    {
     "data": {
      "application/vnd.jupyter.widget-view+json": {
       "model_id": "b61209037a3940e5a3375698cafc6496",
       "version_major": 2,
       "version_minor": 0
      },
      "text/plain": [
       "Downloading data:   0%|          | 0.00/348M [00:00<?, ?B/s]"
      ]
     },
     "metadata": {},
     "output_type": "display_data"
    },
    {
     "data": {
      "application/vnd.jupyter.widget-view+json": {
       "model_id": "b04b95f2464c49608e4fd8560fce4a61",
       "version_major": 2,
       "version_minor": 0
      },
      "text/plain": [
       "Downloading data:   0%|          | 0.00/373M [00:00<?, ?B/s]"
      ]
     },
     "metadata": {},
     "output_type": "display_data"
    },
    {
     "data": {
      "application/vnd.jupyter.widget-view+json": {
       "model_id": "839301fe919a48c59bcce4707f88fe97",
       "version_major": 2,
       "version_minor": 0
      },
      "text/plain": [
       "Downloading data:   0%|          | 0.00/373M [00:00<?, ?B/s]"
      ]
     },
     "metadata": {},
     "output_type": "display_data"
    },
    {
     "data": {
      "application/vnd.jupyter.widget-view+json": {
       "model_id": "d7a56df904fb4e60a0c0830fccb79f1d",
       "version_major": 2,
       "version_minor": 0
      },
      "text/plain": [
       "Downloading data:   0%|          | 0.00/364M [00:00<?, ?B/s]"
      ]
     },
     "metadata": {},
     "output_type": "display_data"
    },
    {
     "data": {
      "application/vnd.jupyter.widget-view+json": {
       "model_id": "d7d38d9bc3d941229b5d465fc6da7ce9",
       "version_major": 2,
       "version_minor": 0
      },
      "text/plain": [
       "Downloading data:   0%|          | 0.00/374M [00:00<?, ?B/s]"
      ]
     },
     "metadata": {},
     "output_type": "display_data"
    },
    {
     "data": {
      "application/vnd.jupyter.widget-view+json": {
       "model_id": "1a1c99f496ae41fc89705c5ba430d721",
       "version_major": 2,
       "version_minor": 0
      },
      "text/plain": [
       "Downloading data:   0%|          | 0.00/380M [00:00<?, ?B/s]"
      ]
     },
     "metadata": {},
     "output_type": "display_data"
    },
    {
     "data": {
      "application/vnd.jupyter.widget-view+json": {
       "model_id": "6e2b3087e1e642a99465e234277270b4",
       "version_major": 2,
       "version_minor": 0
      },
      "text/plain": [
       "Downloading data:   0%|          | 0.00/378M [00:00<?, ?B/s]"
      ]
     },
     "metadata": {},
     "output_type": "display_data"
    },
    {
     "data": {
      "application/vnd.jupyter.widget-view+json": {
       "model_id": "c1f8e511d5e746c79c7f7eb633c03ca1",
       "version_major": 2,
       "version_minor": 0
      },
      "text/plain": [
       "Downloading data:   0%|          | 0.00/348M [00:00<?, ?B/s]"
      ]
     },
     "metadata": {},
     "output_type": "display_data"
    },
    {
     "data": {
      "application/vnd.jupyter.widget-view+json": {
       "model_id": "ddfe6c839b4448ad898166f0cb527750",
       "version_major": 2,
       "version_minor": 0
      },
      "text/plain": [
       "Downloading data:   0%|          | 0.00/355M [00:00<?, ?B/s]"
      ]
     },
     "metadata": {},
     "output_type": "display_data"
    },
    {
     "data": {
      "application/vnd.jupyter.widget-view+json": {
       "model_id": "b42088e63ddf481f927e38aa6a307b9b",
       "version_major": 2,
       "version_minor": 0
      },
      "text/plain": [
       "Downloading data:   0%|          | 0.00/352M [00:00<?, ?B/s]"
      ]
     },
     "metadata": {},
     "output_type": "display_data"
    },
    {
     "data": {
      "application/vnd.jupyter.widget-view+json": {
       "model_id": "02ddb71ae18b4c25bc893c452f53dd86",
       "version_major": 2,
       "version_minor": 0
      },
      "text/plain": [
       "Downloading data:   0%|          | 0.00/217M [00:00<?, ?B/s]"
      ]
     },
     "metadata": {},
     "output_type": "display_data"
    },
    {
     "data": {
      "application/vnd.jupyter.widget-view+json": {
       "model_id": "8a8c54073bdb47aaa92daa9ae2a66fc3",
       "version_major": 2,
       "version_minor": 0
      },
      "text/plain": [
       "Downloading data:   0%|          | 0.00/239M [00:00<?, ?B/s]"
      ]
     },
     "metadata": {},
     "output_type": "display_data"
    },
    {
     "data": {
      "application/vnd.jupyter.widget-view+json": {
       "model_id": "20894aed7e044cdcbe717627d0c9e99d",
       "version_major": 2,
       "version_minor": 0
      },
      "text/plain": [
       "Generating train split:   0%|          | 0/5260 [00:00<?, ? examples/s]"
      ]
     },
     "metadata": {},
     "output_type": "display_data"
    },
    {
     "data": {
      "application/vnd.jupyter.widget-view+json": {
       "model_id": "6b2230d2a6fc49f2a94e0c36675ec0ec",
       "version_major": 2,
       "version_minor": 0
      },
      "text/plain": [
       "Generating validation split:   0%|          | 0/342 [00:00<?, ? examples/s]"
      ]
     },
     "metadata": {},
     "output_type": "display_data"
    },
    {
     "data": {
      "application/vnd.jupyter.widget-view+json": {
       "model_id": "f80a28c94f8e45d58416911c559d2fbf",
       "version_major": 2,
       "version_minor": 0
      },
      "text/plain": [
       "Generating test split:   0%|          | 0/345 [00:00<?, ? examples/s]"
      ]
     },
     "metadata": {},
     "output_type": "display_data"
    }
   ],
   "source": [
    "dataset = load_dataset('shreyas1104/medical-intent-audio-dataset-consolidated')"
   ]
  },
  {
   "cell_type": "code",
   "execution_count": 6,
   "id": "23a06b7c-08d6-4597-8cc4-02867484cb3b",
   "metadata": {},
   "outputs": [],
   "source": [
    "test_dataset = dataset['test']"
   ]
  },
  {
   "cell_type": "code",
   "execution_count": 7,
   "id": "5128123c-deeb-47a1-860b-5cfb5dc8f174",
   "metadata": {},
   "outputs": [],
   "source": [
    "del dataset['train']\n",
    "del dataset['validation']"
   ]
  },
  {
   "cell_type": "code",
   "execution_count": 8,
   "id": "6f3981fb-60d4-43f9-94c2-ce3267d0a67a",
   "metadata": {},
   "outputs": [
    {
     "data": {
      "text/plain": [
       "{'audio': {'path': '1249120_44142156_100535941.wav',\n",
       "  'array': array([-0.00067139, -0.0007019 , -0.00064087, ...,  0.00033569,\n",
       "          0.00027466,  0.00018311]),\n",
       "  'sampling_rate': 48000},\n",
       " 'label': 4}"
      ]
     },
     "execution_count": 8,
     "metadata": {},
     "output_type": "execute_result"
    }
   ],
   "source": [
    "test_dataset[0]"
   ]
  },
  {
   "cell_type": "code",
   "execution_count": 9,
   "id": "7b33b5db-d3ca-4220-b57f-a822f96e6743",
   "metadata": {},
   "outputs": [
    {
     "data": {
      "text/plain": [
       "Dataset({\n",
       "    features: ['audio', 'label'],\n",
       "    num_rows: 345\n",
       "})"
      ]
     },
     "execution_count": 9,
     "metadata": {},
     "output_type": "execute_result"
    }
   ],
   "source": [
    "test_dataset"
   ]
  },
  {
   "cell_type": "code",
   "execution_count": 10,
   "id": "430c6445-8b29-4db9-90aa-6f9161ffa467",
   "metadata": {},
   "outputs": [
    {
     "data": {
      "application/vnd.jupyter.widget-view+json": {
       "model_id": "b8f3d428930a462299d09a19263b6d10",
       "version_major": 2,
       "version_minor": 0
      },
      "text/plain": [
       "config.json:   0%|          | 0.00/2.84k [00:00<?, ?B/s]"
      ]
     },
     "metadata": {},
     "output_type": "display_data"
    },
    {
     "data": {
      "application/vnd.jupyter.widget-view+json": {
       "model_id": "2eec91b229c340da9694eb53d45a049c",
       "version_major": 2,
       "version_minor": 0
      },
      "text/plain": [
       "model.safetensors:   0%|          | 0.00/2.48G [00:00<?, ?B/s]"
      ]
     },
     "metadata": {},
     "output_type": "display_data"
    },
    {
     "data": {
      "application/vnd.jupyter.widget-view+json": {
       "model_id": "a4502f7231ad4043a9987dcabff241d9",
       "version_major": 2,
       "version_minor": 0
      },
      "text/plain": [
       "preprocessor_config.json:   0%|          | 0.00/256 [00:00<?, ?B/s]"
      ]
     },
     "metadata": {},
     "output_type": "display_data"
    }
   ],
   "source": [
    "# Define the classification pipeline\n",
    "classifier = pipeline(\"audio-classification\", model=\"kunal18/wav2vec2-conformer-rel-pos-large-medical-intent-fine-tuned\")\n",
    "\n"
   ]
  },
  {
   "cell_type": "code",
   "execution_count": 11,
   "id": "a739d279-3cc7-4af3-a480-cb0943223428",
   "metadata": {},
   "outputs": [],
   "source": [
    "true_labels = test_dataset['label']"
   ]
  },
  {
   "cell_type": "code",
   "execution_count": 12,
   "id": "f8e3ea96-02f0-4bfc-9759-62d0bf6419cf",
   "metadata": {},
   "outputs": [],
   "source": [
    "# Initialize predicted labels list\n",
    "predicted_labels = []\n",
    "\n",
    "# Iterate over the test dataset and make predictions\n",
    "for audio_path in test_dataset['audio']:\n",
    "    prediction = classifier(audio_path)\n",
    "    predicted_labels.append(prediction[0]['label'])"
   ]
  },
  {
   "cell_type": "code",
   "execution_count": 13,
   "id": "2fb18913-925d-435d-9d99-b4bb5b9f50bb",
   "metadata": {},
   "outputs": [],
   "source": [
    "# true_labels"
   ]
  },
  {
   "cell_type": "code",
   "execution_count": 14,
   "id": "90ba0a66-47b6-439f-8fdb-b6155748ec97",
   "metadata": {},
   "outputs": [],
   "source": [
    "# predicted_labels"
   ]
  },
  {
   "cell_type": "code",
   "execution_count": 15,
   "id": "6b430df8-7982-478e-84d4-753a2ecfd759",
   "metadata": {},
   "outputs": [],
   "source": [
    "unique_dataset = pd.read_csv('train_metadata.csv').drop_duplicates(subset=['label'])\n",
    "label_to_intent_mapping = dict(zip(unique_dataset['label'], unique_dataset['medical intent']))\n",
    "id2label = dict(sorted(label_to_intent_mapping.items()))\n",
    "label2id = {v: k for k, v in id2label.items()}"
   ]
  },
  {
   "cell_type": "code",
   "execution_count": 16,
   "id": "1436f2bd-088a-4d46-a61a-df638d748306",
   "metadata": {},
   "outputs": [
    {
     "name": "stdout",
     "output_type": "stream",
     "text": [
      "{'Abdominal Pain and Weakness': 0, 'Dermatological Issues': 1, 'Head and Neck Discomfort': 2, 'Musculoskeletal Pain': 3, 'Respiratory and Ear Issues': 4, 'Wound Trauma': 5}\n",
      "----------------------------------------------------------------------------------------------------\n",
      "{0: 'Abdominal Pain and Weakness', 1: 'Dermatological Issues', 2: 'Head and Neck Discomfort', 3: 'Musculoskeletal Pain', 4: 'Respiratory and Ear Issues', 5: 'Wound Trauma'}\n"
     ]
    }
   ],
   "source": [
    "print(label2id)\n",
    "print('-'*100)\n",
    "print(id2label)"
   ]
  },
  {
   "cell_type": "code",
   "execution_count": 17,
   "id": "126816fd-8393-4176-920c-812d10027bca",
   "metadata": {},
   "outputs": [],
   "source": [
    "predicted_labels = [label2id[label] for label in predicted_labels]"
   ]
  },
  {
   "cell_type": "code",
   "execution_count": 18,
   "id": "fff67588-8d36-45c8-8c8e-bf51a030e55d",
   "metadata": {},
   "outputs": [
    {
     "name": "stdout",
     "output_type": "stream",
     "text": [
      "              precision    recall  f1-score   support\n",
      "\n",
      "           0       0.97      0.99      0.98        72\n",
      "           1       0.96      0.96      0.96        45\n",
      "           2       1.00      0.98      0.99        52\n",
      "           3       0.96      0.97      0.97        77\n",
      "           4       0.98      0.96      0.97        57\n",
      "           5       1.00      1.00      1.00        42\n",
      "\n",
      "    accuracy                           0.98       345\n",
      "   macro avg       0.98      0.98      0.98       345\n",
      "weighted avg       0.98      0.98      0.98       345\n",
      "\n"
     ]
    }
   ],
   "source": [
    "# Calculate classification metrics\n",
    "classification_metrics = classification_report(true_labels, predicted_labels)\n",
    "\n",
    "print(classification_metrics)\n"
   ]
  },
  {
   "cell_type": "code",
   "execution_count": 19,
   "id": "437c263f-903d-4474-a008-b3c963cd85c9",
   "metadata": {},
   "outputs": [
    {
     "name": "stdout",
     "output_type": "stream",
     "text": [
      "Classification Report:\n",
      "              precision    recall  f1-score   support\n",
      "\n",
      "           0       0.97      0.99      0.98        72\n",
      "           1       0.96      0.96      0.96        45\n",
      "           2       1.00      0.98      0.99        52\n",
      "           3       0.96      0.97      0.97        77\n",
      "           4       0.98      0.96      0.97        57\n",
      "           5       1.00      1.00      1.00        42\n",
      "\n",
      "    accuracy                           0.98       345\n",
      "   macro avg       0.98      0.98      0.98       345\n",
      "weighted avg       0.98      0.98      0.98       345\n",
      "\n",
      "Accuracy: 0.9768115942028985\n",
      "Precision: 0.9769507294373285\n",
      "Recall: 0.9768115942028985\n",
      "F1 Score: 0.9768357830568957\n"
     ]
    }
   ],
   "source": [
    "from sklearn.metrics import accuracy_score, precision_score, recall_score, f1_score, roc_auc_score\n",
    "\n",
    "\n",
    "accuracy = accuracy_score(true_labels, predicted_labels)\n",
    "precision = precision_score(true_labels, predicted_labels, average='weighted')\n",
    "recall = recall_score(true_labels, predicted_labels, average='weighted')\n",
    "f1 = f1_score(true_labels, predicted_labels, average='weighted')\n",
    "\n",
    "print(\"Classification Report:\")\n",
    "print(classification_metrics)\n",
    "print(\"Accuracy:\", accuracy)\n",
    "print(\"Precision:\", precision)\n",
    "print(\"Recall:\", recall)\n",
    "print(\"F1 Score:\", f1)\n"
   ]
  },
  {
   "cell_type": "code",
   "execution_count": 24,
   "id": "5733ee2b-3d06-4d85-b80d-8ee4cf4a2a5e",
   "metadata": {},
   "outputs": [],
   "source": [
    "# true_labels"
   ]
  },
  {
   "cell_type": "code",
   "execution_count": 25,
   "id": "3e006bf7-f8f5-45ca-8e0c-0ae75035ef7b",
   "metadata": {},
   "outputs": [],
   "source": [
    "\n",
    "# predicted_labels"
   ]
  }
 ],
 "metadata": {
  "kernelspec": {
   "display_name": "Python 3 (ipykernel)",
   "language": "python",
   "name": "python3"
  },
  "language_info": {
   "codemirror_mode": {
    "name": "ipython",
    "version": 3
   },
   "file_extension": ".py",
   "mimetype": "text/x-python",
   "name": "python",
   "nbconvert_exporter": "python",
   "pygments_lexer": "ipython3",
   "version": "3.9.12"
  }
 },
 "nbformat": 4,
 "nbformat_minor": 5
}
