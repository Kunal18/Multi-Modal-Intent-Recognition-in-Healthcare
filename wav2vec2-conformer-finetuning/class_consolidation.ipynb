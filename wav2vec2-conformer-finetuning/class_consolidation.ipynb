{
 "cells": [
  {
   "cell_type": "code",
   "execution_count": 18,
   "metadata": {},
   "outputs": [],
   "source": [
    "import pandas as pd\n",
    "import os\n",
    "import shutil\n",
    "\n",
    "from sklearn.preprocessing import LabelEncoder\n",
    "import joblib"
   ]
  },
  {
   "cell_type": "code",
   "execution_count": 3,
   "metadata": {},
   "outputs": [],
   "source": [
    "train_path = '../data/recordings/train'\n",
    "test_path = '../data/recordings/test'\n",
    "validate_path = '../data/recordings/validation'\n",
    "\n",
    "train_files = [f for f in os.listdir(train_path) if f.endswith('.wav') or f.endswith('.mp3')]  \n",
    "test_files = [f for f in os.listdir(test_path) if f.endswith('.wav') or f.endswith('.mp3')]\n",
    "validate_files = [f for f in os.listdir(validate_path) if f.endswith('.wav') or f.endswith('.mp3')]"
   ]
  },
  {
   "cell_type": "markdown",
   "metadata": {},
   "source": [
    "##### Class consolidation"
   ]
  },
  {
   "cell_type": "markdown",
   "metadata": {},
   "source": [
    "Here we are consolidating existing classes to group similar medical conditions together. In the end, we have 6 grouped classes for our use-case"
   ]
  },
  {
   "cell_type": "code",
   "execution_count": 4,
   "metadata": {},
   "outputs": [],
   "source": [
    "# Medical intent groups\n",
    "medical_groups = {\n",
    "    'Wound Trauma': ['infected wound', 'injury from sports', 'open wound'],\n",
    "    'Musculoskeletal Pain': ['shoulder pain', 'knee pain', 'joint pain', 'muscle pain'],\n",
    "    'Dermatological Issues': ['hair falling out', 'skin issue', 'acne'],\n",
    "    'Respiratory and Ear Issues': ['hard to breath', 'cough', 'ear ache', 'feeling cold'],\n",
    "    'Head and Neck Discomfort': ['head ache', 'blurry vision', 'feeling dizzy', 'neck pain'],\n",
    "    'Abdominal Pain and Weakness': ['stomach ache', 'body feels weak', 'internal pain', 'heart hurts']\n",
    "}"
   ]
  },
  {
   "cell_type": "code",
   "execution_count": 5,
   "metadata": {},
   "outputs": [],
   "source": [
    "# Function to map symptoms to their medical intent groups\n",
    "def map_medical_intent(symptom):\n",
    "    for group, symptoms_list in medical_groups.items():\n",
    "        if symptom in symptoms_list:\n",
    "            return group\n",
    "    return None"
   ]
  },
  {
   "cell_type": "code",
   "execution_count": 6,
   "metadata": {},
   "outputs": [],
   "source": [
    "overview = pd.read_csv('overview-of-recordings.csv')\n",
    "overview['prompt'] = overview['prompt'].str.lower()"
   ]
  },
  {
   "cell_type": "code",
   "execution_count": 7,
   "metadata": {},
   "outputs": [
    {
     "data": {
      "text/html": [
       "<div>\n",
       "<style scoped>\n",
       "    .dataframe tbody tr th:only-of-type {\n",
       "        vertical-align: middle;\n",
       "    }\n",
       "\n",
       "    .dataframe tbody tr th {\n",
       "        vertical-align: top;\n",
       "    }\n",
       "\n",
       "    .dataframe thead th {\n",
       "        text-align: right;\n",
       "    }\n",
       "</style>\n",
       "<table border=\"1\" class=\"dataframe\">\n",
       "  <thead>\n",
       "    <tr style=\"text-align: right;\">\n",
       "      <th></th>\n",
       "      <th>prompt</th>\n",
       "      <th>medical intent</th>\n",
       "    </tr>\n",
       "  </thead>\n",
       "  <tbody>\n",
       "    <tr>\n",
       "      <th>1</th>\n",
       "      <td>hair falling out</td>\n",
       "      <td>Dermatological Issues</td>\n",
       "    </tr>\n",
       "    <tr>\n",
       "      <th>2</th>\n",
       "      <td>heart hurts</td>\n",
       "      <td>Abdominal Pain and Weakness</td>\n",
       "    </tr>\n",
       "    <tr>\n",
       "      <th>3</th>\n",
       "      <td>infected wound</td>\n",
       "      <td>Wound Trauma</td>\n",
       "    </tr>\n",
       "    <tr>\n",
       "      <th>4</th>\n",
       "      <td>infected wound</td>\n",
       "      <td>Wound Trauma</td>\n",
       "    </tr>\n",
       "    <tr>\n",
       "      <th>6</th>\n",
       "      <td>shoulder pain</td>\n",
       "      <td>Musculoskeletal Pain</td>\n",
       "    </tr>\n",
       "  </tbody>\n",
       "</table>\n",
       "</div>"
      ],
      "text/plain": [
       "             prompt               medical intent\n",
       "1  hair falling out        Dermatological Issues\n",
       "2       heart hurts  Abdominal Pain and Weakness\n",
       "3    infected wound                 Wound Trauma\n",
       "4    infected wound                 Wound Trauma\n",
       "6     shoulder pain         Musculoskeletal Pain"
      ]
     },
     "execution_count": 7,
     "metadata": {},
     "output_type": "execute_result"
    }
   ],
   "source": [
    "# Map symptoms to their medical intent groups\n",
    "overview['medical intent'] = overview['prompt'].apply(map_medical_intent)\n",
    "\n",
    "# Drop rows where medical intent is None (not in any group)\n",
    "overview.dropna(subset=['medical intent'], inplace=True)\n",
    "\n",
    "# Display the result\n",
    "overview[['prompt', 'medical intent']].head()"
   ]
  },
  {
   "cell_type": "code",
   "execution_count": 8,
   "metadata": {},
   "outputs": [],
   "source": [
    "train_df = overview[overview['file_name'].isin(train_files)]\n",
    "test_df = overview[overview['file_name'].isin(test_files)]\n",
    "validation_df = overview[overview['file_name'].isin(validate_files)]"
   ]
  },
  {
   "cell_type": "code",
   "execution_count": 9,
   "metadata": {},
   "outputs": [],
   "source": [
    "train_df[['file_name', 'medical intent', 'phrase']].to_csv('train_metadata.csv', index=False)\n",
    "validation_df[['file_name', 'medical intent', 'phrase']].to_csv('validation_metadata.csv', index=False)\n",
    "test_df[['file_name', 'medical intent', 'phrase']].to_csv('test_metadata.csv', index=False)"
   ]
  },
  {
   "cell_type": "code",
   "execution_count": 10,
   "metadata": {},
   "outputs": [
    {
     "name": "stdout",
     "output_type": "stream",
     "text": [
      "5260 345 342\n"
     ]
    }
   ],
   "source": [
    "print(len(train_df), len(test_df), len(validation_df))"
   ]
  },
  {
   "cell_type": "markdown",
   "metadata": {},
   "source": [
    "##### Dump files that won't be used"
   ]
  },
  {
   "cell_type": "code",
   "execution_count": 11,
   "metadata": {},
   "outputs": [],
   "source": [
    "def dump_files(df, dump_folder, folder_path):\n",
    "    \n",
    "    # Ensure the dump folder exists\n",
    "    os.makedirs(dump_folder, exist_ok=True)\n",
    "\n",
    "    # List all files in the directory\n",
    "    files_in_folder = os.listdir(folder_path)\n",
    "\n",
    "    # Extract file names present in the DataFrame\n",
    "    files_in_df = df['file_name'].tolist()\n",
    "\n",
    "    # Files not present in the DataFrame\n",
    "    files_to_dump = [file for file in files_in_folder if file not in files_in_df]\n",
    "\n",
    "    # Move files to the dump folder\n",
    "    for file in files_to_dump:\n",
    "        file_path = os.path.join(folder_path, file)\n",
    "        dump_path = os.path.join(dump_folder, file)\n",
    "        shutil.move(file_path, dump_path)"
   ]
  },
  {
   "cell_type": "code",
   "execution_count": 12,
   "metadata": {},
   "outputs": [],
   "source": [
    "dump_files(train_df, 'train_dump', train_path)\n",
    "dump_files(test_df, 'test_dump', test_path)\n",
    "dump_files(validation_df, 'validation_dump', validate_path)"
   ]
  },
  {
   "cell_type": "code",
   "execution_count": null,
   "metadata": {},
   "outputs": [],
   "source": []
  },
  {
   "cell_type": "markdown",
   "metadata": {},
   "source": [
    "Label Encoding"
   ]
  },
  {
   "cell_type": "code",
   "execution_count": 19,
   "metadata": {},
   "outputs": [],
   "source": [
    "train_metadata = pd.read_csv('train_metadata.csv')\n",
    "validation_metadata = pd.read_csv('validation_metadata.csv')\n",
    "test_metadata = pd.read_csv('test_metadata.csv')"
   ]
  },
  {
   "cell_type": "code",
   "execution_count": 20,
   "metadata": {},
   "outputs": [],
   "source": [
    "label_encoder = LabelEncoder()\n",
    "train_metadata['label'] = label_encoder.fit_transform(train_metadata['medical intent'])\n",
    "test_metadata['label'] = label_encoder.transform(test_metadata['medical intent'])\n",
    "validation_metadata['label'] = label_encoder.transform(validation_metadata['medical intent'])"
   ]
  },
  {
   "cell_type": "code",
   "execution_count": 21,
   "metadata": {},
   "outputs": [
    {
     "data": {
      "text/plain": [
       "['../metadata/label_encoder.pkl']"
      ]
     },
     "execution_count": 21,
     "metadata": {},
     "output_type": "execute_result"
    }
   ],
   "source": [
    "joblib.dump(label_encoder, '../metadata/label_encoder.pkl')"
   ]
  },
  {
   "cell_type": "code",
   "execution_count": 22,
   "metadata": {},
   "outputs": [],
   "source": [
    "train_metadata.to_csv('train_metadata.csv', index=False)\n",
    "validation_metadata.to_csv('validation_metadata.csv', index=False)\n",
    "test_metadata.to_csv('test_metadata.csv', index=False)"
   ]
  },
  {
   "cell_type": "code",
   "execution_count": null,
   "metadata": {},
   "outputs": [],
   "source": []
  }
 ],
 "metadata": {
  "kernelspec": {
   "display_name": "Python 3 (ipykernel)",
   "language": "python",
   "name": "python3"
  },
  "language_info": {
   "codemirror_mode": {
    "name": "ipython",
    "version": 3
   },
   "file_extension": ".py",
   "mimetype": "text/x-python",
   "name": "python",
   "nbconvert_exporter": "python",
   "pygments_lexer": "ipython3",
   "version": "3.9.12"
  }
 },
 "nbformat": 4,
 "nbformat_minor": 4
}
