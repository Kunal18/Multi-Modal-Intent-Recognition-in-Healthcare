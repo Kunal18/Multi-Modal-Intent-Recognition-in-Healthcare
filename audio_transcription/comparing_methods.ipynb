{
 "cells": [
  {
   "cell_type": "code",
   "execution_count": 7,
   "metadata": {},
   "outputs": [],
   "source": [
    "import pandas as pd"
   ]
  },
  {
   "cell_type": "markdown",
   "metadata": {},
   "source": [
    "## Comparing AWS and Whisper-AI"
   ]
  },
  {
   "cell_type": "code",
   "execution_count": 8,
   "metadata": {},
   "outputs": [
    {
     "data": {
      "text/html": [
       "<div>\n",
       "<style scoped>\n",
       "    .dataframe tbody tr th:only-of-type {\n",
       "        vertical-align: middle;\n",
       "    }\n",
       "\n",
       "    .dataframe tbody tr th {\n",
       "        vertical-align: top;\n",
       "    }\n",
       "\n",
       "    .dataframe thead th {\n",
       "        text-align: right;\n",
       "    }\n",
       "</style>\n",
       "<table border=\"1\" class=\"dataframe\">\n",
       "  <thead>\n",
       "    <tr style=\"text-align: right;\">\n",
       "      <th></th>\n",
       "      <th>file_name</th>\n",
       "      <th>actual_transcription</th>\n",
       "      <th>pred_transcription</th>\n",
       "      <th>word_error_rate</th>\n",
       "      <th>character_error_rate</th>\n",
       "    </tr>\n",
       "  </thead>\n",
       "  <tbody>\n",
       "    <tr>\n",
       "      <th>0</th>\n",
       "      <td>1249120_13842059_104469105.wav</td>\n",
       "      <td>I have a painful cramp in my feet</td>\n",
       "      <td>I have a painful cramp in my feet.</td>\n",
       "      <td>0.1250</td>\n",
       "      <td>0.0303</td>\n",
       "    </tr>\n",
       "    <tr>\n",
       "      <th>1</th>\n",
       "      <td>1249120_13842059_105045085.wav</td>\n",
       "      <td>The pain feels like it's right below the skin</td>\n",
       "      <td>The pain feels like it's right below the skin.</td>\n",
       "      <td>0.1111</td>\n",
       "      <td>0.0222</td>\n",
       "    </tr>\n",
       "    <tr>\n",
       "      <th>2</th>\n",
       "      <td>1249120_13842059_11964685.wav</td>\n",
       "      <td>I feel suicidal.</td>\n",
       "      <td>I feel suicidal.</td>\n",
       "      <td>0.0000</td>\n",
       "      <td>0.0000</td>\n",
       "    </tr>\n",
       "    <tr>\n",
       "      <th>3</th>\n",
       "      <td>1249120_13842059_12420758.wav</td>\n",
       "      <td>I feel a sharp pain in my ankle joint when I s...</td>\n",
       "      <td>I feel a sharp pain in my ankle joint when I s...</td>\n",
       "      <td>0.0000</td>\n",
       "      <td>0.0000</td>\n",
       "    </tr>\n",
       "    <tr>\n",
       "      <th>4</th>\n",
       "      <td>1249120_13842059_13041979.wav</td>\n",
       "      <td>My shoulder hurts me so much</td>\n",
       "      <td>My shoulder hurts me so much.</td>\n",
       "      <td>0.1667</td>\n",
       "      <td>0.0357</td>\n",
       "    </tr>\n",
       "  </tbody>\n",
       "</table>\n",
       "</div>"
      ],
      "text/plain": [
       "                        file_name  \\\n",
       "0  1249120_13842059_104469105.wav   \n",
       "1  1249120_13842059_105045085.wav   \n",
       "2   1249120_13842059_11964685.wav   \n",
       "3   1249120_13842059_12420758.wav   \n",
       "4   1249120_13842059_13041979.wav   \n",
       "\n",
       "                                actual_transcription  \\\n",
       "0                  I have a painful cramp in my feet   \n",
       "1      The pain feels like it's right below the skin   \n",
       "2                                   I feel suicidal.   \n",
       "3  I feel a sharp pain in my ankle joint when I s...   \n",
       "4                       My shoulder hurts me so much   \n",
       "\n",
       "                                  pred_transcription  word_error_rate  \\\n",
       "0                 I have a painful cramp in my feet.           0.1250   \n",
       "1     The pain feels like it's right below the skin.           0.1111   \n",
       "2                                   I feel suicidal.           0.0000   \n",
       "3  I feel a sharp pain in my ankle joint when I s...           0.0000   \n",
       "4                      My shoulder hurts me so much.           0.1667   \n",
       "\n",
       "   character_error_rate  \n",
       "0                0.0303  \n",
       "1                0.0222  \n",
       "2                0.0000  \n",
       "3                0.0000  \n",
       "4                0.0357  "
      ]
     },
     "execution_count": 8,
     "metadata": {},
     "output_type": "execute_result"
    }
   ],
   "source": [
    "aws_file_path = \"/Users/kunalindore/Library/CloudStorage/OneDrive-NortheasternUniversity/Capstone/Multi-Modal-Intent-Recognition-in-Healthcare/audio_transcription/transcription_files/aws/train_recordings_transcription_AWS.csv\"\n",
    "aws_df = pd.read_csv(aws_file_path)\n",
    "aws_df.head()"
   ]
  },
  {
   "cell_type": "code",
   "execution_count": 9,
   "metadata": {},
   "outputs": [
    {
     "name": "stdout",
     "output_type": "stream",
     "text": [
      "Mean WER: 0.181\n",
      "Mean CER: 0.0467\n"
     ]
    }
   ],
   "source": [
    "print('Mean WER:', round(aws_df['word_error_rate'].mean(), 4))\n",
    "\n",
    "print('Mean CER:', round(aws_df['character_error_rate'].mean(), 4))"
   ]
  },
  {
   "cell_type": "code",
   "execution_count": 10,
   "metadata": {},
   "outputs": [
    {
     "data": {
      "text/html": [
       "<div>\n",
       "<style scoped>\n",
       "    .dataframe tbody tr th:only-of-type {\n",
       "        vertical-align: middle;\n",
       "    }\n",
       "\n",
       "    .dataframe tbody tr th {\n",
       "        vertical-align: top;\n",
       "    }\n",
       "\n",
       "    .dataframe thead th {\n",
       "        text-align: right;\n",
       "    }\n",
       "</style>\n",
       "<table border=\"1\" class=\"dataframe\">\n",
       "  <thead>\n",
       "    <tr style=\"text-align: right;\">\n",
       "      <th></th>\n",
       "      <th>file_name</th>\n",
       "      <th>pred_transcription</th>\n",
       "      <th>actual_transcription</th>\n",
       "      <th>merged_prompt</th>\n",
       "      <th>word_error_rate</th>\n",
       "      <th>character_error_rate</th>\n",
       "    </tr>\n",
       "  </thead>\n",
       "  <tbody>\n",
       "    <tr>\n",
       "      <th>396</th>\n",
       "      <td>1249120_13842059_104469105.wav</td>\n",
       "      <td>i have a painful cramp in my feet</td>\n",
       "      <td>i have a painful cramp in my feet</td>\n",
       "      <td>Leg and foot pain</td>\n",
       "      <td>0.0</td>\n",
       "      <td>0.0303</td>\n",
       "    </tr>\n",
       "    <tr>\n",
       "      <th>302</th>\n",
       "      <td>1249120_13842059_105045085.wav</td>\n",
       "      <td>the pain feels like its right below the skin</td>\n",
       "      <td>the pain feels like its right below the skin</td>\n",
       "      <td>Muscle and joint pain</td>\n",
       "      <td>0.0</td>\n",
       "      <td>0.0227</td>\n",
       "    </tr>\n",
       "    <tr>\n",
       "      <th>393</th>\n",
       "      <td>1249120_13842059_11964685.wav</td>\n",
       "      <td>i feel suicidal</td>\n",
       "      <td>i feel suicidal</td>\n",
       "      <td>Emotional and mental health</td>\n",
       "      <td>0.0</td>\n",
       "      <td>0.0667</td>\n",
       "    </tr>\n",
       "    <tr>\n",
       "      <th>46</th>\n",
       "      <td>1249120_13842059_12420758.wav</td>\n",
       "      <td>i feel a sharp pain in my ankle joint when i ...</td>\n",
       "      <td>i feel a sharp pain in my ankle joint when i s...</td>\n",
       "      <td>Muscle and joint pain</td>\n",
       "      <td>0.0</td>\n",
       "      <td>0.0200</td>\n",
       "    </tr>\n",
       "    <tr>\n",
       "      <th>390</th>\n",
       "      <td>1249120_13842059_13041979.wav</td>\n",
       "      <td>my shoulder hurts me so much</td>\n",
       "      <td>my shoulder hurts me so much</td>\n",
       "      <td>Shoulder pain</td>\n",
       "      <td>0.0</td>\n",
       "      <td>0.0357</td>\n",
       "    </tr>\n",
       "  </tbody>\n",
       "</table>\n",
       "</div>"
      ],
      "text/plain": [
       "                          file_name  \\\n",
       "396  1249120_13842059_104469105.wav   \n",
       "302  1249120_13842059_105045085.wav   \n",
       "393   1249120_13842059_11964685.wav   \n",
       "46    1249120_13842059_12420758.wav   \n",
       "390   1249120_13842059_13041979.wav   \n",
       "\n",
       "                                    pred_transcription  \\\n",
       "396                  i have a painful cramp in my feet   \n",
       "302       the pain feels like its right below the skin   \n",
       "393                                    i feel suicidal   \n",
       "46    i feel a sharp pain in my ankle joint when i ...   \n",
       "390                       my shoulder hurts me so much   \n",
       "\n",
       "                                  actual_transcription  \\\n",
       "396                  i have a painful cramp in my feet   \n",
       "302       the pain feels like its right below the skin   \n",
       "393                                    i feel suicidal   \n",
       "46   i feel a sharp pain in my ankle joint when i s...   \n",
       "390                       my shoulder hurts me so much   \n",
       "\n",
       "                   merged_prompt  word_error_rate  character_error_rate  \n",
       "396            Leg and foot pain              0.0                0.0303  \n",
       "302        Muscle and joint pain              0.0                0.0227  \n",
       "393  Emotional and mental health              0.0                0.0667  \n",
       "46         Muscle and joint pain              0.0                0.0200  \n",
       "390                Shoulder pain              0.0                0.0357  "
      ]
     },
     "execution_count": 10,
     "metadata": {},
     "output_type": "execute_result"
    }
   ],
   "source": [
    "whisper_file_path = \"/Users/kunalindore/Library/CloudStorage/OneDrive-NortheasternUniversity/Capstone/Multi-Modal-Intent-Recognition-in-Healthcare/audio_transcription/transcription_files/whisper-ai/wer_cer_scores/train_recordings_transcription_whisper-ai.csv\"\n",
    "whisper_df = pd.read_csv(whisper_file_path)\n",
    "whisper_df = whisper_df.rename(columns={'Transcription': 'pred_transcription', 'phrase': 'actual_transcription'})\n",
    "whisper_df = whisper_df.sort_values('file_name')\n",
    "whisper_df.head()"
   ]
  },
  {
   "cell_type": "code",
   "execution_count": 11,
   "metadata": {},
   "outputs": [
    {
     "name": "stdout",
     "output_type": "stream",
     "text": [
      "Mean WER: 0.0413\n",
      "Mean CER: 0.0406\n"
     ]
    }
   ],
   "source": [
    "print('Mean WER:', round(whisper_df['word_error_rate'].mean(), 4))\n",
    "\n",
    "print('Mean CER:', round(whisper_df['character_error_rate'].mean(), 4))"
   ]
  }
 ],
 "metadata": {
  "kernelspec": {
   "display_name": "Python 3 (ipykernel)",
   "language": "python",
   "name": "python3"
  },
  "language_info": {
   "codemirror_mode": {
    "name": "ipython",
    "version": 3
   },
   "file_extension": ".py",
   "mimetype": "text/x-python",
   "name": "python",
   "nbconvert_exporter": "python",
   "pygments_lexer": "ipython3",
   "version": "3.9.15"
  }
 },
 "nbformat": 4,
 "nbformat_minor": 2
}
