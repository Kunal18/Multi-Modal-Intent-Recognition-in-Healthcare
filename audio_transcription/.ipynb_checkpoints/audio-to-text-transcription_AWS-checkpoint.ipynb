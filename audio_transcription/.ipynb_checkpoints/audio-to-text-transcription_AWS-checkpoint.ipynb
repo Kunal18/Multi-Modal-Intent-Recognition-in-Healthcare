{
 "cells": [
  {
   "cell_type": "code",
   "execution_count": 45,
   "metadata": {},
   "outputs": [
    {
     "name": "stdout",
     "output_type": "stream",
     "text": [
      "Requirement already satisfied: boto3 in c:\\users\\shrey\\anaconda3\\envs\\capstone-project\\lib\\site-packages (1.34.35)Note: you may need to restart the kernel to use updated packages.\n",
      "\n",
      "Requirement already satisfied: pandas in c:\\users\\shrey\\anaconda3\\envs\\capstone-project\\lib\\site-packages (2.2.0)\n",
      "Requirement already satisfied: python-Levenshtein in c:\\users\\shrey\\anaconda3\\envs\\capstone-project\\lib\\site-packages (0.24.0)\n",
      "Collecting python-dotenv\n",
      "  Downloading python_dotenv-1.0.1-py3-none-any.whl.metadata (23 kB)\n",
      "Requirement already satisfied: botocore<1.35.0,>=1.34.35 in c:\\users\\shrey\\anaconda3\\envs\\capstone-project\\lib\\site-packages (from boto3) (1.34.35)\n",
      "Requirement already satisfied: jmespath<2.0.0,>=0.7.1 in c:\\users\\shrey\\anaconda3\\envs\\capstone-project\\lib\\site-packages (from boto3) (1.0.1)\n",
      "Requirement already satisfied: s3transfer<0.11.0,>=0.10.0 in c:\\users\\shrey\\anaconda3\\envs\\capstone-project\\lib\\site-packages (from boto3) (0.10.0)\n",
      "Requirement already satisfied: numpy<2,>=1.23.2 in c:\\users\\shrey\\anaconda3\\envs\\capstone-project\\lib\\site-packages (from pandas) (1.26.3)\n",
      "Requirement already satisfied: python-dateutil>=2.8.2 in c:\\users\\shrey\\anaconda3\\envs\\capstone-project\\lib\\site-packages (from pandas) (2.8.2)\n",
      "Requirement already satisfied: pytz>=2020.1 in c:\\users\\shrey\\anaconda3\\envs\\capstone-project\\lib\\site-packages (from pandas) (2024.1)\n",
      "Requirement already satisfied: tzdata>=2022.7 in c:\\users\\shrey\\anaconda3\\envs\\capstone-project\\lib\\site-packages (from pandas) (2023.4)\n",
      "Requirement already satisfied: Levenshtein==0.24.0 in c:\\users\\shrey\\anaconda3\\envs\\capstone-project\\lib\\site-packages (from python-Levenshtein) (0.24.0)\n",
      "Requirement already satisfied: rapidfuzz<4.0.0,>=3.1.0 in c:\\users\\shrey\\anaconda3\\envs\\capstone-project\\lib\\site-packages (from Levenshtein==0.24.0->python-Levenshtein) (3.6.1)\n",
      "Requirement already satisfied: urllib3<2.1,>=1.25.4 in c:\\users\\shrey\\anaconda3\\envs\\capstone-project\\lib\\site-packages (from botocore<1.35.0,>=1.34.35->boto3) (2.0.7)\n",
      "Requirement already satisfied: six>=1.5 in c:\\users\\shrey\\anaconda3\\envs\\capstone-project\\lib\\site-packages (from python-dateutil>=2.8.2->pandas) (1.16.0)\n",
      "Downloading python_dotenv-1.0.1-py3-none-any.whl (19 kB)\n",
      "Installing collected packages: python-dotenv\n",
      "Successfully installed python-dotenv-1.0.1\n"
     ]
    }
   ],
   "source": [
    "pip install boto3 pandas python-Levenshtein python-dotenv"
   ]
  },
  {
   "cell_type": "code",
   "execution_count": 46,
   "metadata": {},
   "outputs": [],
   "source": [
    "import boto3\n",
    "import pandas as pd\n",
    "import time\n",
    "from dotenv import load_dotenv\n",
    "import os\n",
    "import Levenshtein"
   ]
  },
  {
   "cell_type": "code",
   "execution_count": 51,
   "metadata": {},
   "outputs": [],
   "source": [
    "recordings_df = pd.read_csv('../data/overview-of-recordings.csv')\n",
    "recordings_df = recordings_df[['file_name', 'phrase']].rename(columns={'phrase':'actual_transcription'}).sort_values('file_name').reset_index(drop=True)"
   ]
  },
  {
   "cell_type": "code",
   "execution_count": 52,
   "metadata": {},
   "outputs": [
    {
     "data": {
      "text/html": [
       "<div>\n",
       "<style scoped>\n",
       "    .dataframe tbody tr th:only-of-type {\n",
       "        vertical-align: middle;\n",
       "    }\n",
       "\n",
       "    .dataframe tbody tr th {\n",
       "        vertical-align: top;\n",
       "    }\n",
       "\n",
       "    .dataframe thead th {\n",
       "        text-align: right;\n",
       "    }\n",
       "</style>\n",
       "<table border=\"1\" class=\"dataframe\">\n",
       "  <thead>\n",
       "    <tr style=\"text-align: right;\">\n",
       "      <th></th>\n",
       "      <th>file_name</th>\n",
       "      <th>actual_transcription</th>\n",
       "    </tr>\n",
       "  </thead>\n",
       "  <tbody>\n",
       "    <tr>\n",
       "      <th>0</th>\n",
       "      <td>1249120_13842059_104469105.wav</td>\n",
       "      <td>I have a painful cramp in my feet</td>\n",
       "    </tr>\n",
       "    <tr>\n",
       "      <th>1</th>\n",
       "      <td>1249120_13842059_105045085.wav</td>\n",
       "      <td>The pain feels like it's right below the skin</td>\n",
       "    </tr>\n",
       "    <tr>\n",
       "      <th>2</th>\n",
       "      <td>1249120_13842059_11964685.wav</td>\n",
       "      <td>I feel suicidal.</td>\n",
       "    </tr>\n",
       "    <tr>\n",
       "      <th>3</th>\n",
       "      <td>1249120_13842059_12420758.wav</td>\n",
       "      <td>I feel a sharp pain in my ankle joint when I s...</td>\n",
       "    </tr>\n",
       "    <tr>\n",
       "      <th>4</th>\n",
       "      <td>1249120_13842059_13041979.wav</td>\n",
       "      <td>My shoulder hurts me so much</td>\n",
       "    </tr>\n",
       "  </tbody>\n",
       "</table>\n",
       "</div>"
      ],
      "text/plain": [
       "                        file_name  \\\n",
       "0  1249120_13842059_104469105.wav   \n",
       "1  1249120_13842059_105045085.wav   \n",
       "2   1249120_13842059_11964685.wav   \n",
       "3   1249120_13842059_12420758.wav   \n",
       "4   1249120_13842059_13041979.wav   \n",
       "\n",
       "                                actual_transcription  \n",
       "0                  I have a painful cramp in my feet  \n",
       "1      The pain feels like it's right below the skin  \n",
       "2                                   I feel suicidal.  \n",
       "3  I feel a sharp pain in my ankle joint when I s...  \n",
       "4                       My shoulder hurts me so much  "
      ]
     },
     "execution_count": 52,
     "metadata": {},
     "output_type": "execute_result"
    }
   ],
   "source": [
    "recordings_df.head()"
   ]
  },
  {
   "cell_type": "code",
   "execution_count": 53,
   "metadata": {},
   "outputs": [],
   "source": [
    "load_dotenv()\n",
    "\n",
    "aws_access_key_id =  os.environ.get('AWS_ACCESS_KEY_ID')\n",
    "aws_secret_access_key = os.environ.get('AWS_SECRET_ACCESS_KEY')\n",
    "\n",
    "session = boto3.Session(\n",
    "    aws_access_key_id=aws_access_key_id,\n",
    "    aws_secret_access_key=aws_secret_access_key\n",
    ")"
   ]
  },
  {
   "cell_type": "code",
   "execution_count": 54,
   "metadata": {},
   "outputs": [],
   "source": [
    "bucket_name = 'capstone-project-audio-files'\n",
    "\n",
    "s3 = session.client(\"s3\")\n",
    "result = s3.list_objects(Bucket=bucket_name)\n",
    "audio_filenames = []\n",
    "\n",
    "if 'Contents' in result:\n",
    "    for obj in result['Contents']:\n",
    "        audio_filenames.append(obj['Key'])\n",
    "else:\n",
    "    print('The bucket is empty.')"
   ]
  },
  {
   "cell_type": "code",
   "execution_count": 55,
   "metadata": {},
   "outputs": [
    {
     "data": {
      "text/plain": [
       "500"
      ]
     },
     "execution_count": 55,
     "metadata": {},
     "output_type": "execute_result"
    }
   ],
   "source": [
    "len(audio_filenames)"
   ]
  },
  {
   "cell_type": "code",
   "execution_count": 56,
   "metadata": {},
   "outputs": [
    {
     "data": {
      "text/html": [
       "<div>\n",
       "<style scoped>\n",
       "    .dataframe tbody tr th:only-of-type {\n",
       "        vertical-align: middle;\n",
       "    }\n",
       "\n",
       "    .dataframe tbody tr th {\n",
       "        vertical-align: top;\n",
       "    }\n",
       "\n",
       "    .dataframe thead th {\n",
       "        text-align: right;\n",
       "    }\n",
       "</style>\n",
       "<table border=\"1\" class=\"dataframe\">\n",
       "  <thead>\n",
       "    <tr style=\"text-align: right;\">\n",
       "      <th></th>\n",
       "      <th>file_name</th>\n",
       "      <th>actual_transcription</th>\n",
       "    </tr>\n",
       "  </thead>\n",
       "  <tbody>\n",
       "    <tr>\n",
       "      <th>0</th>\n",
       "      <td>1249120_13842059_104469105.wav</td>\n",
       "      <td>I have a painful cramp in my feet</td>\n",
       "    </tr>\n",
       "    <tr>\n",
       "      <th>1</th>\n",
       "      <td>1249120_13842059_105045085.wav</td>\n",
       "      <td>The pain feels like it's right below the skin</td>\n",
       "    </tr>\n",
       "    <tr>\n",
       "      <th>2</th>\n",
       "      <td>1249120_13842059_11964685.wav</td>\n",
       "      <td>I feel suicidal.</td>\n",
       "    </tr>\n",
       "    <tr>\n",
       "      <th>3</th>\n",
       "      <td>1249120_13842059_12420758.wav</td>\n",
       "      <td>I feel a sharp pain in my ankle joint when I s...</td>\n",
       "    </tr>\n",
       "    <tr>\n",
       "      <th>4</th>\n",
       "      <td>1249120_13842059_13041979.wav</td>\n",
       "      <td>My shoulder hurts me so much</td>\n",
       "    </tr>\n",
       "  </tbody>\n",
       "</table>\n",
       "</div>"
      ],
      "text/plain": [
       "                        file_name  \\\n",
       "0  1249120_13842059_104469105.wav   \n",
       "1  1249120_13842059_105045085.wav   \n",
       "2   1249120_13842059_11964685.wav   \n",
       "3   1249120_13842059_12420758.wav   \n",
       "4   1249120_13842059_13041979.wav   \n",
       "\n",
       "                                actual_transcription  \n",
       "0                  I have a painful cramp in my feet  \n",
       "1      The pain feels like it's right below the skin  \n",
       "2                                   I feel suicidal.  \n",
       "3  I feel a sharp pain in my ankle joint when I s...  \n",
       "4                       My shoulder hurts me so much  "
      ]
     },
     "execution_count": 56,
     "metadata": {},
     "output_type": "execute_result"
    }
   ],
   "source": [
    "recordings_df = recordings_df[recordings_df['file_name'].isin(audio_filenames)].sort_values('file_name').reset_index(drop=True)\n",
    "recordings_df.head()"
   ]
  },
  {
   "cell_type": "code",
   "execution_count": 57,
   "metadata": {},
   "outputs": [
    {
     "data": {
      "text/plain": [
       "500"
      ]
     },
     "execution_count": 57,
     "metadata": {},
     "output_type": "execute_result"
    }
   ],
   "source": [
    "len(recordings_df)"
   ]
  },
  {
   "cell_type": "code",
   "execution_count": 12,
   "metadata": {},
   "outputs": [],
   "source": [
    "def amazon_transcribe(audio_filename, s3_bucket):\n",
    "\n",
    "    job_uri =  s3_bucket + audio_filename \n",
    "    job_name = (audio_filename.split('.')[0]).replace(\" \", \"\")  \n",
    "    file_format = audio_filename.split('.')[1]\n",
    "\n",
    "    transcribe.start_transcription_job(\n",
    "        TranscriptionJobName=job_name,\n",
    "        Media={'MediaFileUri': job_uri},\n",
    "        MediaFormat = file_format,\n",
    "        LanguageCode='en-US')\n",
    "\n",
    "    while True:\n",
    "        result = transcribe.get_transcription_job(TranscriptionJobName=job_name)\n",
    "        if result['TranscriptionJob']['TranscriptionJobStatus'] in ['COMPLETED', 'FAILED']:\n",
    "            break\n",
    "        time.sleep(15)\n",
    "    if result['TranscriptionJob']['TranscriptionJobStatus'] == \"COMPLETED\":\n",
    "        data = pd.read_json(result['TranscriptionJob']['Transcript']['TranscriptFileUri'])\n",
    "        \n",
    "    return data.at['transcripts', 'results'][0]['transcript']"
   ]
  },
  {
   "cell_type": "code",
   "execution_count": 13,
   "metadata": {},
   "outputs": [],
   "source": [
    "transcribe = boto3.client(\n",
    "    'transcribe', \n",
    "    aws_access_key_id=aws_access_key_id, \n",
    "    aws_secret_access_key=aws_secret_access_key, \n",
    "    region_name='us-east-1'\n",
    ") "
   ]
  },
  {
   "cell_type": "code",
   "execution_count": 14,
   "metadata": {},
   "outputs": [],
   "source": [
    "pred_audio_transcripts = []\n",
    "\n",
    "s3_bucket = f\"s3://{bucket_name}/\"\n",
    "\n",
    "for audio_filename in audio_filenames:\n",
    "    pred_audio_transcripts.append(amazon_transcribe(audio_filename, s3_bucket))"
   ]
  },
  {
   "cell_type": "code",
   "execution_count": 15,
   "metadata": {},
   "outputs": [],
   "source": [
    "recordings_df['pred_transcription'] = pred_audio_transcripts"
   ]
  },
  {
   "cell_type": "code",
   "execution_count": 16,
   "metadata": {},
   "outputs": [
    {
     "data": {
      "text/html": [
       "<div>\n",
       "<style scoped>\n",
       "    .dataframe tbody tr th:only-of-type {\n",
       "        vertical-align: middle;\n",
       "    }\n",
       "\n",
       "    .dataframe tbody tr th {\n",
       "        vertical-align: top;\n",
       "    }\n",
       "\n",
       "    .dataframe thead th {\n",
       "        text-align: right;\n",
       "    }\n",
       "</style>\n",
       "<table border=\"1\" class=\"dataframe\">\n",
       "  <thead>\n",
       "    <tr style=\"text-align: right;\">\n",
       "      <th></th>\n",
       "      <th>file_name</th>\n",
       "      <th>actual_transcription</th>\n",
       "      <th>pred_transcription</th>\n",
       "    </tr>\n",
       "  </thead>\n",
       "  <tbody>\n",
       "    <tr>\n",
       "      <th>0</th>\n",
       "      <td>1249120_13842059_104469105.wav</td>\n",
       "      <td>I have a painful cramp in my feet</td>\n",
       "      <td>I have a painful cramp in my feet.</td>\n",
       "    </tr>\n",
       "    <tr>\n",
       "      <th>1</th>\n",
       "      <td>1249120_13842059_105045085.wav</td>\n",
       "      <td>The pain feels like it's right below the skin</td>\n",
       "      <td>The pain feels like it's right below the skin.</td>\n",
       "    </tr>\n",
       "    <tr>\n",
       "      <th>2</th>\n",
       "      <td>1249120_13842059_11964685.wav</td>\n",
       "      <td>I feel suicidal.</td>\n",
       "      <td>I feel suicidal.</td>\n",
       "    </tr>\n",
       "    <tr>\n",
       "      <th>3</th>\n",
       "      <td>1249120_13842059_12420758.wav</td>\n",
       "      <td>I feel a sharp pain in my ankle joint when I s...</td>\n",
       "      <td>I feel a sharp pain in my ankle joint when I s...</td>\n",
       "    </tr>\n",
       "    <tr>\n",
       "      <th>4</th>\n",
       "      <td>1249120_13842059_13041979.wav</td>\n",
       "      <td>My shoulder hurts me so much</td>\n",
       "      <td>My shoulder hurts me so much.</td>\n",
       "    </tr>\n",
       "    <tr>\n",
       "      <th>...</th>\n",
       "      <td>...</td>\n",
       "      <td>...</td>\n",
       "      <td>...</td>\n",
       "    </tr>\n",
       "    <tr>\n",
       "      <th>495</th>\n",
       "      <td>1249120_6338946_95779210.wav</td>\n",
       "      <td>my ankle is hurting me</td>\n",
       "      <td>My ankle is hurting me.</td>\n",
       "    </tr>\n",
       "    <tr>\n",
       "      <th>496</th>\n",
       "      <td>1249120_6338946_97962298.wav</td>\n",
       "      <td>I can't walk because i have a great foot ache</td>\n",
       "      <td>I can't walk because I have a great foot. A.</td>\n",
       "    </tr>\n",
       "    <tr>\n",
       "      <th>497</th>\n",
       "      <td>1249120_6338946_98107593.wav</td>\n",
       "      <td>When I tried to be warm and wear more clothes ...</td>\n",
       "      <td>When I tried to be warm and wear more clothes,...</td>\n",
       "    </tr>\n",
       "    <tr>\n",
       "      <th>498</th>\n",
       "      <td>1249120_6338946_99675257.wav</td>\n",
       "      <td>I've always been very active but now I just do...</td>\n",
       "      <td>I've always been very active but now I just do...</td>\n",
       "    </tr>\n",
       "    <tr>\n",
       "      <th>499</th>\n",
       "      <td>1249120_6338946_99780649.wav</td>\n",
       "      <td>I wake up at night feeling cold</td>\n",
       "      <td>I wake up at night feeling cold.</td>\n",
       "    </tr>\n",
       "  </tbody>\n",
       "</table>\n",
       "<p>500 rows × 3 columns</p>\n",
       "</div>"
      ],
      "text/plain": [
       "                          file_name  \\\n",
       "0    1249120_13842059_104469105.wav   \n",
       "1    1249120_13842059_105045085.wav   \n",
       "2     1249120_13842059_11964685.wav   \n",
       "3     1249120_13842059_12420758.wav   \n",
       "4     1249120_13842059_13041979.wav   \n",
       "..                              ...   \n",
       "495    1249120_6338946_95779210.wav   \n",
       "496    1249120_6338946_97962298.wav   \n",
       "497    1249120_6338946_98107593.wav   \n",
       "498    1249120_6338946_99675257.wav   \n",
       "499    1249120_6338946_99780649.wav   \n",
       "\n",
       "                                  actual_transcription  \\\n",
       "0                    I have a painful cramp in my feet   \n",
       "1        The pain feels like it's right below the skin   \n",
       "2                                     I feel suicidal.   \n",
       "3    I feel a sharp pain in my ankle joint when I s...   \n",
       "4                         My shoulder hurts me so much   \n",
       "..                                                 ...   \n",
       "495                             my ankle is hurting me   \n",
       "496      I can't walk because i have a great foot ache   \n",
       "497  When I tried to be warm and wear more clothes ...   \n",
       "498  I've always been very active but now I just do...   \n",
       "499                    I wake up at night feeling cold   \n",
       "\n",
       "                                    pred_transcription  \n",
       "0                   I have a painful cramp in my feet.  \n",
       "1       The pain feels like it's right below the skin.  \n",
       "2                                     I feel suicidal.  \n",
       "3    I feel a sharp pain in my ankle joint when I s...  \n",
       "4                        My shoulder hurts me so much.  \n",
       "..                                                 ...  \n",
       "495                            My ankle is hurting me.  \n",
       "496       I can't walk because I have a great foot. A.  \n",
       "497  When I tried to be warm and wear more clothes,...  \n",
       "498  I've always been very active but now I just do...  \n",
       "499                   I wake up at night feeling cold.  \n",
       "\n",
       "[500 rows x 3 columns]"
      ]
     },
     "execution_count": 16,
     "metadata": {},
     "output_type": "execute_result"
    }
   ],
   "source": [
    "recordings_df"
   ]
  },
  {
   "cell_type": "code",
   "execution_count": 17,
   "metadata": {},
   "outputs": [],
   "source": [
    "recordings_df.to_csv('./train_recordings_transcription_AWS.csv', index=False)"
   ]
  },
  {
   "cell_type": "code",
   "execution_count": 34,
   "metadata": {},
   "outputs": [],
   "source": [
    "recordings_df = pd.read_csv('./train_recordings_transcription_AWS.csv')"
   ]
  },
  {
   "cell_type": "code",
   "execution_count": 35,
   "metadata": {},
   "outputs": [
    {
     "data": {
      "text/html": [
       "<div>\n",
       "<style scoped>\n",
       "    .dataframe tbody tr th:only-of-type {\n",
       "        vertical-align: middle;\n",
       "    }\n",
       "\n",
       "    .dataframe tbody tr th {\n",
       "        vertical-align: top;\n",
       "    }\n",
       "\n",
       "    .dataframe thead th {\n",
       "        text-align: right;\n",
       "    }\n",
       "</style>\n",
       "<table border=\"1\" class=\"dataframe\">\n",
       "  <thead>\n",
       "    <tr style=\"text-align: right;\">\n",
       "      <th></th>\n",
       "      <th>file_name</th>\n",
       "      <th>actual_transcription</th>\n",
       "      <th>pred_transcription</th>\n",
       "    </tr>\n",
       "  </thead>\n",
       "  <tbody>\n",
       "    <tr>\n",
       "      <th>0</th>\n",
       "      <td>1249120_13842059_104469105.wav</td>\n",
       "      <td>I have a painful cramp in my feet</td>\n",
       "      <td>I have a painful cramp in my feet.</td>\n",
       "    </tr>\n",
       "    <tr>\n",
       "      <th>1</th>\n",
       "      <td>1249120_13842059_105045085.wav</td>\n",
       "      <td>The pain feels like it's right below the skin</td>\n",
       "      <td>The pain feels like it's right below the skin.</td>\n",
       "    </tr>\n",
       "    <tr>\n",
       "      <th>2</th>\n",
       "      <td>1249120_13842059_11964685.wav</td>\n",
       "      <td>I feel suicidal.</td>\n",
       "      <td>I feel suicidal.</td>\n",
       "    </tr>\n",
       "    <tr>\n",
       "      <th>3</th>\n",
       "      <td>1249120_13842059_12420758.wav</td>\n",
       "      <td>I feel a sharp pain in my ankle joint when I s...</td>\n",
       "      <td>I feel a sharp pain in my ankle joint when I s...</td>\n",
       "    </tr>\n",
       "    <tr>\n",
       "      <th>4</th>\n",
       "      <td>1249120_13842059_13041979.wav</td>\n",
       "      <td>My shoulder hurts me so much</td>\n",
       "      <td>My shoulder hurts me so much.</td>\n",
       "    </tr>\n",
       "  </tbody>\n",
       "</table>\n",
       "</div>"
      ],
      "text/plain": [
       "                        file_name  \\\n",
       "0  1249120_13842059_104469105.wav   \n",
       "1  1249120_13842059_105045085.wav   \n",
       "2   1249120_13842059_11964685.wav   \n",
       "3   1249120_13842059_12420758.wav   \n",
       "4   1249120_13842059_13041979.wav   \n",
       "\n",
       "                                actual_transcription  \\\n",
       "0                  I have a painful cramp in my feet   \n",
       "1      The pain feels like it's right below the skin   \n",
       "2                                   I feel suicidal.   \n",
       "3  I feel a sharp pain in my ankle joint when I s...   \n",
       "4                       My shoulder hurts me so much   \n",
       "\n",
       "                                  pred_transcription  \n",
       "0                 I have a painful cramp in my feet.  \n",
       "1     The pain feels like it's right below the skin.  \n",
       "2                                   I feel suicidal.  \n",
       "3  I feel a sharp pain in my ankle joint when I s...  \n",
       "4                      My shoulder hurts me so much.  "
      ]
     },
     "execution_count": 35,
     "metadata": {},
     "output_type": "execute_result"
    }
   ],
   "source": [
    "recordings_df.head()"
   ]
  },
  {
   "cell_type": "code",
   "execution_count": 37,
   "metadata": {},
   "outputs": [],
   "source": [
    "def wer(reference, hypothesis):\n",
    "    \"\"\"\n",
    "    Calculate Word Error Rate (WER) between reference and hypothesis.\n",
    "    \"\"\"\n",
    "    reference_words = reference.split()\n",
    "    hypothesis_words = hypothesis.split()\n",
    "\n",
    "    # Calculate Levenshtein distance\n",
    "    distance = Levenshtein.distance(reference_words, hypothesis_words)\n",
    "\n",
    "    # Calculate WER\n",
    "    wer = distance / len(reference_words)\n",
    "    return round(wer,4)\n",
    "\n",
    "\n",
    "def cer(reference, hypothesis):\n",
    "    \"\"\"\n",
    "    Calculate Character Error Rate (CER) between reference and hypothesis.\n",
    "    \"\"\"\n",
    "    # Calculate Levenshtein distance\n",
    "    distance = Levenshtein.distance(reference, hypothesis)\n",
    "\n",
    "    # Calculate CER\n",
    "    cer = distance / len(reference)\n",
    "    return round(cer,4)"
   ]
  },
  {
   "cell_type": "code",
   "execution_count": 38,
   "metadata": {},
   "outputs": [],
   "source": [
    "wer_scores = []\n",
    "cer_scores = []\n",
    "\n",
    "for actual, pred in zip(recordings_df['actual_transcription'], recordings_df['pred_transcription']):\n",
    "    wer_scores.append(wer(actual, pred))\n",
    "    cer_scores.append(cer(actual, pred))"
   ]
  },
  {
   "cell_type": "code",
   "execution_count": 39,
   "metadata": {},
   "outputs": [],
   "source": [
    "recordings_df['word_error_rate'] = wer_scores\n",
    "recordings_df['character_error_rate'] = cer_scores"
   ]
  },
  {
   "cell_type": "code",
   "execution_count": 40,
   "metadata": {},
   "outputs": [
    {
     "data": {
      "text/html": [
       "<div>\n",
       "<style scoped>\n",
       "    .dataframe tbody tr th:only-of-type {\n",
       "        vertical-align: middle;\n",
       "    }\n",
       "\n",
       "    .dataframe tbody tr th {\n",
       "        vertical-align: top;\n",
       "    }\n",
       "\n",
       "    .dataframe thead th {\n",
       "        text-align: right;\n",
       "    }\n",
       "</style>\n",
       "<table border=\"1\" class=\"dataframe\">\n",
       "  <thead>\n",
       "    <tr style=\"text-align: right;\">\n",
       "      <th></th>\n",
       "      <th>file_name</th>\n",
       "      <th>actual_transcription</th>\n",
       "      <th>pred_transcription</th>\n",
       "      <th>word_error_rate</th>\n",
       "      <th>character_error_rate</th>\n",
       "    </tr>\n",
       "  </thead>\n",
       "  <tbody>\n",
       "    <tr>\n",
       "      <th>0</th>\n",
       "      <td>1249120_13842059_104469105.wav</td>\n",
       "      <td>I have a painful cramp in my feet</td>\n",
       "      <td>I have a painful cramp in my feet.</td>\n",
       "      <td>0.1250</td>\n",
       "      <td>0.0303</td>\n",
       "    </tr>\n",
       "    <tr>\n",
       "      <th>1</th>\n",
       "      <td>1249120_13842059_105045085.wav</td>\n",
       "      <td>The pain feels like it's right below the skin</td>\n",
       "      <td>The pain feels like it's right below the skin.</td>\n",
       "      <td>0.1111</td>\n",
       "      <td>0.0222</td>\n",
       "    </tr>\n",
       "    <tr>\n",
       "      <th>2</th>\n",
       "      <td>1249120_13842059_11964685.wav</td>\n",
       "      <td>I feel suicidal.</td>\n",
       "      <td>I feel suicidal.</td>\n",
       "      <td>0.0000</td>\n",
       "      <td>0.0000</td>\n",
       "    </tr>\n",
       "    <tr>\n",
       "      <th>3</th>\n",
       "      <td>1249120_13842059_12420758.wav</td>\n",
       "      <td>I feel a sharp pain in my ankle joint when I s...</td>\n",
       "      <td>I feel a sharp pain in my ankle joint when I s...</td>\n",
       "      <td>0.0000</td>\n",
       "      <td>0.0000</td>\n",
       "    </tr>\n",
       "    <tr>\n",
       "      <th>4</th>\n",
       "      <td>1249120_13842059_13041979.wav</td>\n",
       "      <td>My shoulder hurts me so much</td>\n",
       "      <td>My shoulder hurts me so much.</td>\n",
       "      <td>0.1667</td>\n",
       "      <td>0.0357</td>\n",
       "    </tr>\n",
       "    <tr>\n",
       "      <th>...</th>\n",
       "      <td>...</td>\n",
       "      <td>...</td>\n",
       "      <td>...</td>\n",
       "      <td>...</td>\n",
       "      <td>...</td>\n",
       "    </tr>\n",
       "    <tr>\n",
       "      <th>495</th>\n",
       "      <td>1249120_6338946_95779210.wav</td>\n",
       "      <td>my ankle is hurting me</td>\n",
       "      <td>My ankle is hurting me.</td>\n",
       "      <td>0.4000</td>\n",
       "      <td>0.0909</td>\n",
       "    </tr>\n",
       "    <tr>\n",
       "      <th>496</th>\n",
       "      <td>1249120_6338946_97962298.wav</td>\n",
       "      <td>I can't walk because i have a great foot ache</td>\n",
       "      <td>I can't walk because I have a great foot. A.</td>\n",
       "      <td>0.3000</td>\n",
       "      <td>0.1333</td>\n",
       "    </tr>\n",
       "    <tr>\n",
       "      <th>497</th>\n",
       "      <td>1249120_6338946_98107593.wav</td>\n",
       "      <td>When I tried to be warm and wear more clothes ...</td>\n",
       "      <td>When I tried to be warm and wear more clothes,...</td>\n",
       "      <td>0.1176</td>\n",
       "      <td>0.0267</td>\n",
       "    </tr>\n",
       "    <tr>\n",
       "      <th>498</th>\n",
       "      <td>1249120_6338946_99675257.wav</td>\n",
       "      <td>I've always been very active but now I just do...</td>\n",
       "      <td>I've always been very active but now I just do...</td>\n",
       "      <td>0.0000</td>\n",
       "      <td>0.0000</td>\n",
       "    </tr>\n",
       "    <tr>\n",
       "      <th>499</th>\n",
       "      <td>1249120_6338946_99780649.wav</td>\n",
       "      <td>I wake up at night feeling cold</td>\n",
       "      <td>I wake up at night feeling cold.</td>\n",
       "      <td>0.1429</td>\n",
       "      <td>0.0323</td>\n",
       "    </tr>\n",
       "  </tbody>\n",
       "</table>\n",
       "<p>500 rows × 5 columns</p>\n",
       "</div>"
      ],
      "text/plain": [
       "                          file_name  \\\n",
       "0    1249120_13842059_104469105.wav   \n",
       "1    1249120_13842059_105045085.wav   \n",
       "2     1249120_13842059_11964685.wav   \n",
       "3     1249120_13842059_12420758.wav   \n",
       "4     1249120_13842059_13041979.wav   \n",
       "..                              ...   \n",
       "495    1249120_6338946_95779210.wav   \n",
       "496    1249120_6338946_97962298.wav   \n",
       "497    1249120_6338946_98107593.wav   \n",
       "498    1249120_6338946_99675257.wav   \n",
       "499    1249120_6338946_99780649.wav   \n",
       "\n",
       "                                  actual_transcription  \\\n",
       "0                    I have a painful cramp in my feet   \n",
       "1        The pain feels like it's right below the skin   \n",
       "2                                     I feel suicidal.   \n",
       "3    I feel a sharp pain in my ankle joint when I s...   \n",
       "4                         My shoulder hurts me so much   \n",
       "..                                                 ...   \n",
       "495                             my ankle is hurting me   \n",
       "496      I can't walk because i have a great foot ache   \n",
       "497  When I tried to be warm and wear more clothes ...   \n",
       "498  I've always been very active but now I just do...   \n",
       "499                    I wake up at night feeling cold   \n",
       "\n",
       "                                    pred_transcription  word_error_rate  \\\n",
       "0                   I have a painful cramp in my feet.           0.1250   \n",
       "1       The pain feels like it's right below the skin.           0.1111   \n",
       "2                                     I feel suicidal.           0.0000   \n",
       "3    I feel a sharp pain in my ankle joint when I s...           0.0000   \n",
       "4                        My shoulder hurts me so much.           0.1667   \n",
       "..                                                 ...              ...   \n",
       "495                            My ankle is hurting me.           0.4000   \n",
       "496       I can't walk because I have a great foot. A.           0.3000   \n",
       "497  When I tried to be warm and wear more clothes,...           0.1176   \n",
       "498  I've always been very active but now I just do...           0.0000   \n",
       "499                   I wake up at night feeling cold.           0.1429   \n",
       "\n",
       "     character_error_rate  \n",
       "0                  0.0303  \n",
       "1                  0.0222  \n",
       "2                  0.0000  \n",
       "3                  0.0000  \n",
       "4                  0.0357  \n",
       "..                    ...  \n",
       "495                0.0909  \n",
       "496                0.1333  \n",
       "497                0.0267  \n",
       "498                0.0000  \n",
       "499                0.0323  \n",
       "\n",
       "[500 rows x 5 columns]"
      ]
     },
     "execution_count": 40,
     "metadata": {},
     "output_type": "execute_result"
    }
   ],
   "source": [
    "recordings_df"
   ]
  },
  {
   "cell_type": "code",
   "execution_count": 41,
   "metadata": {},
   "outputs": [
    {
     "name": "stdout",
     "output_type": "stream",
     "text": [
      "Mean WER: 0.181\n"
     ]
    }
   ],
   "source": [
    "print('Mean WER:', round(recordings_df['word_error_rate'].mean(), 4))"
   ]
  },
  {
   "cell_type": "code",
   "execution_count": 42,
   "metadata": {},
   "outputs": [
    {
     "name": "stdout",
     "output_type": "stream",
     "text": [
      "Mean CER: 0.0467\n"
     ]
    }
   ],
   "source": [
    "print('Mean CER:', round(recordings_df['character_error_rate'].mean(), 4))"
   ]
  },
  {
   "cell_type": "code",
   "execution_count": 43,
   "metadata": {},
   "outputs": [],
   "source": [
    "recordings_df.to_csv('./train_recordings_transcription_AWS.csv', index=False)"
   ]
  },
  {
   "cell_type": "code",
   "execution_count": null,
   "metadata": {},
   "outputs": [],
   "source": []
  }
 ],
 "metadata": {
  "kernelspec": {
   "display_name": "Python 3 (ipykernel)",
   "language": "python",
   "name": "python3"
  },
  "language_info": {
   "codemirror_mode": {
    "name": "ipython",
    "version": 3
   },
   "file_extension": ".py",
   "mimetype": "text/x-python",
   "name": "python",
   "nbconvert_exporter": "python",
   "pygments_lexer": "ipython3",
   "version": "3.9.15"
  }
 },
 "nbformat": 4,
 "nbformat_minor": 2
}
