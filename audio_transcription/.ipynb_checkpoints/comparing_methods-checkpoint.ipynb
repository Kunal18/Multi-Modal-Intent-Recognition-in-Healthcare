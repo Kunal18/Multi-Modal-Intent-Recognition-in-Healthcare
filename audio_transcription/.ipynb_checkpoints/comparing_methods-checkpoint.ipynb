{
 "cells": [
  {
   "cell_type": "markdown",
   "metadata": {},
   "source": [
    "## Comparing AWS and Whisper-AI"
   ]
  },
  {
   "cell_type": "code",
   "execution_count": null,
   "metadata": {},
   "outputs": [
    {
     "data": {
      "text/html": [
       "<div>\n",
       "<style scoped>\n",
       "    .dataframe tbody tr th:only-of-type {\n",
       "        vertical-align: middle;\n",
       "    }\n",
       "\n",
       "    .dataframe tbody tr th {\n",
       "        vertical-align: top;\n",
       "    }\n",
       "\n",
       "    .dataframe thead th {\n",
       "        text-align: right;\n",
       "    }\n",
       "</style>\n",
       "<table border=\"1\" class=\"dataframe\">\n",
       "  <thead>\n",
       "    <tr style=\"text-align: right;\">\n",
       "      <th></th>\n",
       "      <th>file_name</th>\n",
       "      <th>actual_transcription</th>\n",
       "      <th>pred_transcription</th>\n",
       "      <th>word_error_rate</th>\n",
       "      <th>character_error_rate</th>\n",
       "    </tr>\n",
       "  </thead>\n",
       "  <tbody>\n",
       "    <tr>\n",
       "      <th>0</th>\n",
       "      <td>1249120_13842059_104469105.wav</td>\n",
       "      <td>I have a painful cramp in my feet</td>\n",
       "      <td>I have a painful cramp in my feet.</td>\n",
       "      <td>0.1250</td>\n",
       "      <td>0.0303</td>\n",
       "    </tr>\n",
       "    <tr>\n",
       "      <th>1</th>\n",
       "      <td>1249120_13842059_105045085.wav</td>\n",
       "      <td>The pain feels like it's right below the skin</td>\n",
       "      <td>The pain feels like it's right below the skin.</td>\n",
       "      <td>0.1111</td>\n",
       "      <td>0.0222</td>\n",
       "    </tr>\n",
       "    <tr>\n",
       "      <th>2</th>\n",
       "      <td>1249120_13842059_11964685.wav</td>\n",
       "      <td>I feel suicidal.</td>\n",
       "      <td>I feel suicidal.</td>\n",
       "      <td>0.0000</td>\n",
       "      <td>0.0000</td>\n",
       "    </tr>\n",
       "    <tr>\n",
       "      <th>3</th>\n",
       "      <td>1249120_13842059_12420758.wav</td>\n",
       "      <td>I feel a sharp pain in my ankle joint when I s...</td>\n",
       "      <td>I feel a sharp pain in my ankle joint when I s...</td>\n",
       "      <td>0.0000</td>\n",
       "      <td>0.0000</td>\n",
       "    </tr>\n",
       "    <tr>\n",
       "      <th>4</th>\n",
       "      <td>1249120_13842059_13041979.wav</td>\n",
       "      <td>My shoulder hurts me so much</td>\n",
       "      <td>My shoulder hurts me so much.</td>\n",
       "      <td>0.1667</td>\n",
       "      <td>0.0357</td>\n",
       "    </tr>\n",
       "  </tbody>\n",
       "</table>\n",
       "</div>"
      ],
      "text/plain": [
       "                        file_name  \\\n",
       "0  1249120_13842059_104469105.wav   \n",
       "1  1249120_13842059_105045085.wav   \n",
       "2   1249120_13842059_11964685.wav   \n",
       "3   1249120_13842059_12420758.wav   \n",
       "4   1249120_13842059_13041979.wav   \n",
       "\n",
       "                                actual_transcription  \\\n",
       "0                  I have a painful cramp in my feet   \n",
       "1      The pain feels like it's right below the skin   \n",
       "2                                   I feel suicidal.   \n",
       "3  I feel a sharp pain in my ankle joint when I s...   \n",
       "4                       My shoulder hurts me so much   \n",
       "\n",
       "                                  pred_transcription  word_error_rate  \\\n",
       "0                 I have a painful cramp in my feet.           0.1250   \n",
       "1     The pain feels like it's right below the skin.           0.1111   \n",
       "2                                   I feel suicidal.           0.0000   \n",
       "3  I feel a sharp pain in my ankle joint when I s...           0.0000   \n",
       "4                      My shoulder hurts me so much.           0.1667   \n",
       "\n",
       "   character_error_rate  \n",
       "0                0.0303  \n",
       "1                0.0222  \n",
       "2                0.0000  \n",
       "3                0.0000  \n",
       "4                0.0357  "
      ]
     },
     "metadata": {},
     "output_type": "display_data"
    }
   ],
   "source": [
    "aws_file_path = \"/Users/kunalindore/Library/CloudStorage/OneDrive-NortheasternUniversity/Capstone/Multi-Modal-Intent-Recognition-in-Healthcare/audio_transcription/transcription_files/aws/train_recordings_transcription_AWS.csv\"\n",
    "aws_df = pd.read_csv(aws_file_path)\n",
    "aws_df.head()"
   ]
  },
  {
   "cell_type": "code",
   "execution_count": null,
   "metadata": {},
   "outputs": [
    {
     "name": "stdout",
     "output_type": "stream",
     "text": [
      "Mean WER: 0.181\n",
      "Mean CER: 0.0467\n"
     ]
    }
   ],
   "source": [
    "print('Mean WER:', round(aws_df['word_error_rate'].mean(), 4))\n",
    "\n",
    "print('Mean CER:', round(aws_df['character_error_rate'].mean(), 4))"
   ]
  },
  {
   "cell_type": "code",
   "execution_count": null,
   "metadata": {},
   "outputs": [
    {
     "data": {
      "text/html": [
       "<div>\n",
       "<style scoped>\n",
       "    .dataframe tbody tr th:only-of-type {\n",
       "        vertical-align: middle;\n",
       "    }\n",
       "\n",
       "    .dataframe tbody tr th {\n",
       "        vertical-align: top;\n",
       "    }\n",
       "\n",
       "    .dataframe thead th {\n",
       "        text-align: right;\n",
       "    }\n",
       "</style>\n",
       "<table border=\"1\" class=\"dataframe\">\n",
       "  <thead>\n",
       "    <tr style=\"text-align: right;\">\n",
       "      <th></th>\n",
       "      <th>file_name</th>\n",
       "      <th>pred_transcription</th>\n",
       "      <th>actual_transcription</th>\n",
       "      <th>merged_prompt</th>\n",
       "      <th>word_error_rate</th>\n",
       "      <th>character_error_rate</th>\n",
       "    </tr>\n",
       "  </thead>\n",
       "  <tbody>\n",
       "    <tr>\n",
       "      <th>0</th>\n",
       "      <td>1249120_15004831_103229689.wav</td>\n",
       "      <td>my son had his lip pierced and it is swollen ...</td>\n",
       "      <td>my son had his lip pierced and it is swollen a...</td>\n",
       "      <td>Wound and injury</td>\n",
       "      <td>0.0455</td>\n",
       "      <td>0.0196</td>\n",
       "    </tr>\n",
       "    <tr>\n",
       "      <th>1</th>\n",
       "      <td>1249120_15004831_93767590.wav</td>\n",
       "      <td>my back hurts so much i cant bend down to tie...</td>\n",
       "      <td>my back hurts so much i cant bend down to tie ...</td>\n",
       "      <td>Neck, back or spinal issues</td>\n",
       "      <td>0.0000</td>\n",
       "      <td>0.0172</td>\n",
       "    </tr>\n",
       "    <tr>\n",
       "      <th>2</th>\n",
       "      <td>1249120_15830408_55921206.wav</td>\n",
       "      <td>i was travelling by ship and i feel dizzy</td>\n",
       "      <td>i was travelling by ship and i feel dizzy</td>\n",
       "      <td>Dizziness and vertigo</td>\n",
       "      <td>0.0000</td>\n",
       "      <td>0.0244</td>\n",
       "    </tr>\n",
       "    <tr>\n",
       "      <th>3</th>\n",
       "      <td>1249120_15830408_37803938.wav</td>\n",
       "      <td>i do not know why i feel cold</td>\n",
       "      <td>i do not know why i feel cold</td>\n",
       "      <td>Feeling cold/hot</td>\n",
       "      <td>0.0000</td>\n",
       "      <td>0.0345</td>\n",
       "    </tr>\n",
       "    <tr>\n",
       "      <th>4</th>\n",
       "      <td>1249120_2171654_19438090.wav</td>\n",
       "      <td>my hair is falling out after i take a shower</td>\n",
       "      <td>my hair is falling out after i take a shower</td>\n",
       "      <td>Hair and skin issues</td>\n",
       "      <td>0.0000</td>\n",
       "      <td>0.0227</td>\n",
       "    </tr>\n",
       "  </tbody>\n",
       "</table>\n",
       "</div>"
      ],
      "text/plain": [
       "                        file_name  \\\n",
       "0  1249120_15004831_103229689.wav   \n",
       "1   1249120_15004831_93767590.wav   \n",
       "2   1249120_15830408_55921206.wav   \n",
       "3   1249120_15830408_37803938.wav   \n",
       "4    1249120_2171654_19438090.wav   \n",
       "\n",
       "                                  pred_transcription  \\\n",
       "0   my son had his lip pierced and it is swollen ...   \n",
       "1   my back hurts so much i cant bend down to tie...   \n",
       "2          i was travelling by ship and i feel dizzy   \n",
       "3                      i do not know why i feel cold   \n",
       "4       my hair is falling out after i take a shower   \n",
       "\n",
       "                                actual_transcription  \\\n",
       "0  my son had his lip pierced and it is swollen a...   \n",
       "1  my back hurts so much i cant bend down to tie ...   \n",
       "2          i was travelling by ship and i feel dizzy   \n",
       "3                      i do not know why i feel cold   \n",
       "4       my hair is falling out after i take a shower   \n",
       "\n",
       "                 merged_prompt  word_error_rate  character_error_rate  \n",
       "0             Wound and injury           0.0455                0.0196  \n",
       "1  Neck, back or spinal issues           0.0000                0.0172  \n",
       "2        Dizziness and vertigo           0.0000                0.0244  \n",
       "3             Feeling cold/hot           0.0000                0.0345  \n",
       "4         Hair and skin issues           0.0000                0.0227  "
      ]
     },
     "metadata": {},
     "output_type": "display_data"
    }
   ],
   "source": [
    "whisper_file_path = \"/Users/kunalindore/Library/CloudStorage/OneDrive-NortheasternUniversity/Capstone/Multi-Modal-Intent-Recognition-in-Healthcare/audio_transcription/transcription_files/whisper-ai/wer_cer_scores/train_recordings_transcription_whisper-ai.csv\"\n",
    "whisper_df = pd.read_csv(whisper_file_path)\n",
    "whisper_df = whisper_df.rename(columns={'Transcription': 'pred_transcription', 'phrase': 'actual_transcription'})\n",
    "whisper_df.sort_values('file_name')\n",
    "whisper_df.head()"
   ]
  },
  {
   "cell_type": "code",
   "execution_count": null,
   "metadata": {},
   "outputs": [
    {
     "name": "stdout",
     "output_type": "stream",
     "text": [
      "Mean WER: 0.0413\n",
      "Mean CER: 0.0406\n"
     ]
    }
   ],
   "source": [
    "print('Mean WER:', round(whisper_df['word_error_rate'].mean(), 4))\n",
    "\n",
    "print('Mean CER:', round(whisper_df['character_error_rate'].mean(), 4))"
   ]
  }
 ],
 "metadata": {
  "kernelspec": {
   "display_name": "Python 3 (ipykernel)",
   "language": "python",
   "name": "python3"
  },
  "language_info": {
   "codemirror_mode": {
    "name": "ipython",
    "version": 3
   },
   "file_extension": ".py",
   "mimetype": "text/x-python",
   "name": "python",
   "nbconvert_exporter": "python",
   "pygments_lexer": "ipython3",
   "version": "3.9.15"
  }
 },
 "nbformat": 4,
 "nbformat_minor": 2
}
